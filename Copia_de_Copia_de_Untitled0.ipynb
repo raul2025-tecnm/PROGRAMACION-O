{
  "nbformat": 4,
  "nbformat_minor": 0,
  "metadata": {
    "colab": {
      "provenance": [],
      "toc_visible": true,
      "mount_file_id": "1IQ_F4jsGHpp1Js7W127zq3IpnYqFiKAz",
      "authorship_tag": "ABX9TyOz8M7EB0kzjpVyqImfQ2yf",
      "include_colab_link": true
    },
    "kernelspec": {
      "name": "python3",
      "display_name": "Python 3"
    },
    "language_info": {
      "name": "python"
    }
  },
  "cells": [
    {
      "cell_type": "markdown",
      "metadata": {
        "id": "view-in-github",
        "colab_type": "text"
      },
      "source": [
        "<a href=\"https://colab.research.google.com/github/raul2025-tecnm/PROGRAMACION-O/blob/main/Copia_de_Copia_de_Untitled0.ipynb\" target=\"_parent\"><img src=\"https://colab.research.google.com/assets/colab-badge.svg\" alt=\"Open In Colab\"/></a>"
      ]
    },
    {
      "cell_type": "code",
      "execution_count": null,
      "metadata": {
        "colab": {
          "base_uri": "https://localhost:8080/"
        },
        "id": "aQ3ykqqH1QTr",
        "outputId": "4bab31f3-a974-4340-eb63-8a1bb0e3551d"
      },
      "outputs": [
        {
          "output_type": "stream",
          "name": "stdout",
          "text": [
            "Ingresa el numero 1:5\n",
            "Ingresa el numero 2:8\n",
            "El resultado de la suma es de: 13\n"
          ]
        }
      ],
      "source": [
        "class Suma:\n",
        "    def __init__(self):\n",
        "        self.n1=int(input(\"Ingresa el numero 1:\"))\n",
        "        self.n2=int(input(\"Ingresa el numero 2:\"))\n",
        "    def operacion (self):\n",
        "       self.comando= self.n1+self.n2\n",
        "x= Suma ()\n",
        "x.operacion()\n",
        "print(\"El resultado de la suma es de:\", x.comando)\n"
      ]
    },
    {
      "cell_type": "code",
      "source": [
        "class Saludo:\n",
        "    def __init__(self):\n",
        "        self.nombre=\"Raul De Jesus Ugalde\"\n",
        "b= Saludo ()\n",
        "print(\"Hola\",b.nombre)"
      ],
      "metadata": {
        "colab": {
          "base_uri": "https://localhost:8080/"
        },
        "id": "biAf1ngJ5gRw",
        "outputId": "22204ded-4f2e-4f10-c1f1-a9fdc7d81c45"
      },
      "execution_count": 1,
      "outputs": [
        {
          "output_type": "stream",
          "name": "stdout",
          "text": [
            "Hola Raul De Jesus Ugalde\n"
          ]
        }
      ]
    },
    {
      "cell_type": "markdown",
      "source": [
        "Creado por raul de jesus ugalde el 06/02/2025"
      ],
      "metadata": {
        "id": "AOh5G8ISANRe"
      }
    },
    {
      "cell_type": "markdown",
      "source": [
        "codigo hecho por raul de jesus ugalde en 06/02/2025"
      ],
      "metadata": {
        "id": "C1RTEISt14di"
      }
    },
    {
      "cell_type": "code",
      "source": [],
      "metadata": {
        "id": "R8eXz3SZ9Awv"
      },
      "execution_count": null,
      "outputs": []
    },
    {
      "cell_type": "markdown",
      "source": [
        "# Nueva sección"
      ],
      "metadata": {
        "id": "1lHBLGc32KMa"
      }
    }
  ]
}